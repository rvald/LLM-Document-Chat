{
 "cells": [
  {
   "cell_type": "code",
   "execution_count": 13,
   "metadata": {},
   "outputs": [],
   "source": [
    "# Load dependencies\n",
    "import os\n",
    "import openai\n",
    "from llama_index import (\n",
    "    GPTVectorStoreIndex,\n",
    "    SimpleDirectoryReader,\n",
    "    ServiceContext,\n",
    "    StorageContext,\n",
    "    LLMPredictor,\n",
    "    load_index_from_storage\n",
    ")\n",
    "from langchain.chat_models import ChatOpenAI\n",
    "from langchain.embeddings.huggingface import HuggingFaceEmbeddings"
   ]
  },
  {
   "cell_type": "code",
   "execution_count": 14,
   "metadata": {},
   "outputs": [],
   "source": [
    "# Load the .env file in the parent directory into the current enviroment\n",
    "from dotenv import load_dotenv\n",
    "load_dotenv(\"../.env\")\n",
    "\n",
    "# Set the openai api key from the enviroment variable\n",
    "openai.api_key = os.getenv(\"OPENAI_API_KEY\")"
   ]
  },
  {
   "cell_type": "code",
   "execution_count": 15,
   "metadata": {},
   "outputs": [
    {
     "name": "stdout",
     "output_type": "stream",
     "text": [
      "started the loading document process...\n"
     ]
    }
   ],
   "source": [
    "# Notify the user that the document loading process has begun\n",
    "print(\"started the loading document process...\")\n",
    "\n",
    "# Read the data from the specified directory\n",
    "documents = SimpleDirectoryReader(\"../data/\").load_data()"
   ]
  },
  {
   "cell_type": "code",
   "execution_count": 16,
   "metadata": {},
   "outputs": [],
   "source": [
    "# Initialize the LLM predictor with the desired GPT-3.5-turbo model and temperature setting\n",
    "llm_predictor = LLMPredictor(llm=ChatOpenAI(temperature=0, model=\"gpt-3.5-turbo\"))"
   ]
  },
  {
   "cell_type": "code",
   "execution_count": 17,
   "metadata": {},
   "outputs": [],
   "source": [
    "# Define the embedding function\n",
    "embed_model = HuggingFaceEmbeddings(model_name=\"sentence-transformers/all-mpnet-base-v2\")\n",
    "\n",
    "# Create a service context using the initialized predictor\n",
    "service_context = ServiceContext.from_defaults(llm_predictor=llm_predictor, embed_model=embed_model)"
   ]
  },
  {
   "cell_type": "code",
   "execution_count": 18,
   "metadata": {},
   "outputs": [
    {
     "name": "stdout",
     "output_type": "stream",
     "text": [
      "started the indexing process...\n",
      "storing the index to disk\n"
     ]
    }
   ],
   "source": [
    "# Notify the user that the indexing process has begun\n",
    "print(\"started the indexing process...\")\n",
    "\n",
    "# Create an index using the loaded documents and the created service context\n",
    "index = GPTVectorStoreIndex.from_documents(documents, service_context=service_context)\n",
    "\n",
    "# Store the created index to disk at the specified location\n",
    "print(\"storing the index to disk\")\n",
    "index.storage_context.persist(persist_dir=\"../documents-index/\")"
   ]
  },
  {
   "cell_type": "code",
   "execution_count": 19,
   "metadata": {},
   "outputs": [
    {
     "name": "stdout",
     "output_type": "stream",
     "text": [
      "Querying the index...\n",
      "The Mammography Quality Standards Act (MQSA) is a federal law that establishes baseline standards for mammography services in the United States. It ensures that patients receive high-quality mammography examinations for the early detection of breast cancer. The MQSA regulations cover various aspects, including accreditation and certification of mammography facilities, qualifications of personnel, equipment standards, quality assurance programs, communication of results, and clinical image review.\n",
      "\n",
      "The purpose of the final rule is to modernize and update the regulations in response to technological advancements in mammography and the experience gained from administering the MQSA program. The final rule requires that mammography reports include a lay summary for patients, which identifies whether the patient has dense or non-dense breast tissue and provides information on the significance of breast density. Additionally, the rule establishes four categories for reporting breast tissue density to the patient's referring healthcare provider.\n",
      "\n",
      "The MQSA was enacted in 1992 and applies to all mammography facilities, except those of the Department of Veterans Affairs. These facilities must be accredited by an approved accreditation body and certified by the FDA or an approved State certification agency. The FDA is amending the mammography regulations established under the Public Health Service Act and sections of the Federal Food, Drug, and Cosmetic Act.\n",
      "\n",
      "Overall, the MQSA aims to ensure that all patients have access to quality mammography services by setting uniform federal standards. The final rule enhances the information provided to patients and their healthcare providers, particularly regarding breast density, to improve the effectiveness of mammography in detecting breast cancer.\n"
     ]
    }
   ],
   "source": [
    "# Notify the user that we are quering the index\n",
    "print(\"Querying the index...\")\n",
    "\n",
    "# Query the index for the provided question and store the response\n",
    "response = index.as_query_engine().query(\"Write a summary of the background and executive summary for the mammography quality act. Remember to add formatting elements so that the output is easy to read and well-formatted. Use line breaks to improve formatting.\")\n",
    "\n",
    "# Print the received response\n",
    "print(response)"
   ]
  },
  {
   "cell_type": "code",
   "execution_count": 20,
   "metadata": {},
   "outputs": [
    {
     "name": "stdout",
     "output_type": "stream",
     "text": [
      "Querying the index...\n",
      "- The Mammography Quality Standards Act (MQSA) establishes federal standards for mammography services to ensure high-quality examinations for breast cancer detection.\n",
      "- The MQSA regulations cover various aspects, including qualifications of personnel, equipment standards, mammography reports, quality assurance programs, clinical image quality, recordkeeping, and communication of results.\n",
      "- The regulations require that all mammography facilities, except those of the Department of Veterans Affairs, be accredited by an approved accreditation body and certified by the FDA or an approved state certification agency.\n",
      "- The MQSA regulations are being modernized and updated by the FDA to reflect technological advancements in mammography and improve the information provided to patients and healthcare providers.\n",
      "- The updated regulations include a requirement for a lay summary of the mammography report that identifies breast tissue density and provides information on its significance.\n",
      "- The regulations also establish four categories for reporting breast tissue density in the mammography report provided to the patient's referring healthcare provider.\n",
      "- The MQSA regulations address issues such as failure to send mammography reports in a timely manner, consumer complaints, and the use of different mammographic modalities.\n",
      "- The regulations specify standards for accreditation bodies, including the notification process for denying accreditation and the appeals process for facilities.\n",
      "- The regulations also outline the consequences for facilities that fail to become accredited after three consecutive attempts, including a one-year period during which no accreditation body can accept an application from the facility.\n",
      "- The MQSA regulations require facilities to maintain certification and specify the requirements for certification revocation.\n",
      "- The MQSA is based on the authority delegated to the Commissioner of Food and Drugs under the Federal Food, Drug, and Cosmetic Act and the Public Health Service Act.\n",
      "\n",
      "Executive Summary:\n",
      "The Mammography Quality Standards Act (MQSA) establishes federal standards for mammography services to ensure high-quality examinations for breast cancer detection. The MQSA regulations cover various aspects, including personnel qualifications, equipment standards, mammography reports, quality assurance programs, and communication of results. The FDA is modernizing and updating the regulations to reflect technological advancements and improve the information provided to patients and healthcare providers. The updated regulations include requirements for a lay summary of the mammography report and establish categories for reporting breast tissue density. The MQSA regulations also address issues such as failure to send reports in a timely manner, consumer complaints, and the use of different mammographic modalities. Accreditation bodies play a crucial role in the implementation of the regulations, and facilities must maintain certification to provide mammography services. The MQSA is based on the authority delegated to the Commissioner of Food and Drugs under the Federal Food, Drug, and Cosmetic Act and the Public Health Service Act.\n"
     ]
    }
   ],
   "source": [
    "# Notify the user that we are quering the index\n",
    "print(\"Querying the index...\")\n",
    "\n",
    "# Query the index for the provided question and store the response\n",
    "response = index.as_query_engine().query(\"Write a detailed summary of the mammography quality act including pages 1 thorugh 46. Please write succint bullet points after which include an executive summary which you can present? Remember to add formatting elements so that the output is easy to read and well-formatted. Use line breaks to improve formatting.\")\n",
    "\n",
    "# Print the received response\n",
    "print(response)"
   ]
  }
 ],
 "metadata": {
  "kernelspec": {
   "display_name": "venv",
   "language": "python",
   "name": "python3"
  },
  "language_info": {
   "codemirror_mode": {
    "name": "ipython",
    "version": 3
   },
   "file_extension": ".py",
   "mimetype": "text/x-python",
   "name": "python",
   "nbconvert_exporter": "python",
   "pygments_lexer": "ipython3",
   "version": "3.11.4"
  },
  "orig_nbformat": 4
 },
 "nbformat": 4,
 "nbformat_minor": 2
}
